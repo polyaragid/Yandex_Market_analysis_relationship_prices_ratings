{
 "cells": [
  {
   "cell_type": "code",
   "execution_count": 3,
   "id": "8f7fedb0-ec54-46d8-a6f3-0a88c9b76f69",
   "metadata": {},
   "outputs": [],
   "source": [
    "import os\n",
    "import sys\n",
    "\n",
    "# Папка, в которую сохраняем датасеты\n",
    "working_directory_data = \"data\\\\\"\n",
    "# Тег очищенного датасета\n",
    "tag_clear_dataset = \"clean_\"\n",
    "# Имя датасета\n",
    "name_dataset = \"Yandex_Market_digital_product.csv\"\n",
    "\n",
    "# Получим путь директории в которой находится скрипт\n",
    "working_directory = os.getcwd()\n",
    "# Получим путь директории в которой находится проект\n",
    "working_directory = working_directory[:-working_directory[::-1].find(\"\\\\\")]\n",
    "# Для лёгкого импротирования скриптов\n",
    "sys.path.append(working_directory + 'scripts')\n",
    "\n",
    "from Paeser import parsing_yandex_market, create_driver"
   ]
  },
  {
   "cell_type": "code",
   "execution_count": 5,
   "id": "32c55818-1d8a-4bf1-85c0-8dcfb8cd62d0",
   "metadata": {},
   "outputs": [],
   "source": [
    "#Сбор данных\n",
    "from tqdm import tqdm\n",
    "import time\n",
    "import pandas as pd"
   ]
  },
  {
   "cell_type": "code",
   "execution_count": null,
   "id": "cc4b3a42-99e6-4cad-84de-f00587087741",
   "metadata": {},
   "outputs": [],
   "source": [
    "# Адрес сайта\n",
    "url = \"https://market.yandex.ru/\"\n",
    "# Список вещей, которые ищем\n",
    "requests = [\"Мышь\", \"Клавиатура\", \"Телевизор\", \"Монитор\", \"Камера\", \"Ноутбук\", \"Смартфон\", \"Микрофон\", \"Наушники\", \"Компьютер\"]\n",
    "# Датафрейм, в который будем \n",
    "df = pd.DataFrame({'title': [], 'price': [],'rating': [],'reviews':[],'link': [],'req': []})\n",
    "\n",
    "# Создадим драйвер\n",
    "driver = create_driver()\n",
    "# откроем сайт\n",
    "driver.get(url)\n",
    "\n",
    "# Заполним датафрейм тоаварами\n",
    "for req in tqdm(requests):\n",
    "    df = parsing_yandex_market(req, driver, df, n_scroll = 35)\n",
    "    "
   ]
  },
  {
   "cell_type": "code",
   "execution_count": 13,
   "id": "2d773cee-ea7b-4540-ada3-a9dbfb2e0e6e",
   "metadata": {},
   "outputs": [],
   "source": [
    "# Закроем драйвер\n",
    "driver.quit()"
   ]
  },
  {
   "cell_type": "code",
   "execution_count": 17,
   "id": "93635b42-4817-4748-8a14-4f9400d604bc",
   "metadata": {},
   "outputs": [],
   "source": [
    "# Сохраним данные\n",
    "# df.to_csv(working_directory + working_directory_data + name_dataset)"
   ]
  },
  {
   "cell_type": "code",
   "execution_count": 9,
   "id": "ab36a726-0bb0-47b2-88b9-1465b50c0793",
   "metadata": {},
   "outputs": [],
   "source": [
    "#Загрузка данных\n",
    "df = pd.read_csv(working_directory + working_directory_data + name_dataset).drop(\"Unnamed: 0\", axis = 1)"
   ]
  },
  {
   "cell_type": "code",
   "execution_count": 11,
   "id": "9145ba39-23d4-4be5-9f22-b789ad9beab0",
   "metadata": {},
   "outputs": [
    {
     "data": {
      "text/html": [
       "<div>\n",
       "<style scoped>\n",
       "    .dataframe tbody tr th:only-of-type {\n",
       "        vertical-align: middle;\n",
       "    }\n",
       "\n",
       "    .dataframe tbody tr th {\n",
       "        vertical-align: top;\n",
       "    }\n",
       "\n",
       "    .dataframe thead th {\n",
       "        text-align: right;\n",
       "    }\n",
       "</style>\n",
       "<table border=\"1\" class=\"dataframe\">\n",
       "  <thead>\n",
       "    <tr style=\"text-align: right;\">\n",
       "      <th></th>\n",
       "      <th>title</th>\n",
       "      <th>price</th>\n",
       "      <th>rating</th>\n",
       "      <th>reviews</th>\n",
       "      <th>link</th>\n",
       "      <th>req</th>\n",
       "    </tr>\n",
       "  </thead>\n",
       "  <tbody>\n",
       "    <tr>\n",
       "      <th>0</th>\n",
       "      <td>Мышь компьютерная игровая проводная Intro MG25...</td>\n",
       "      <td>231.0</td>\n",
       "      <td>4.5</td>\n",
       "      <td>117.0</td>\n",
       "      <td>https://market.yandex.ru/product--mysh-kompiut...</td>\n",
       "      <td>Мышь</td>\n",
       "    </tr>\n",
       "    <tr>\n",
       "      <th>1</th>\n",
       "      <td>Мышка беспроводная компьютерная для ноутбука с...</td>\n",
       "      <td>295.0</td>\n",
       "      <td>4.6</td>\n",
       "      <td>3431.0</td>\n",
       "      <td>https://market.yandex.ru/product--myshka-bespr...</td>\n",
       "      <td>Мышь</td>\n",
       "    </tr>\n",
       "    <tr>\n",
       "      <th>2</th>\n",
       "      <td>Мышь беспроводная бесшумная игровая, с аккумул...</td>\n",
       "      <td>1195.0</td>\n",
       "      <td>4.8</td>\n",
       "      <td>426.0</td>\n",
       "      <td>https://market.yandex.ru/product--mysh-besprov...</td>\n",
       "      <td>Мышь</td>\n",
       "    </tr>\n",
       "    <tr>\n",
       "      <th>3</th>\n",
       "      <td>Игровая мышь A4Tech Bloody V7, проводная USB, ...</td>\n",
       "      <td>1713.0</td>\n",
       "      <td>4.8</td>\n",
       "      <td>732.0</td>\n",
       "      <td>https://market.yandex.ru/product--igrovaia-mys...</td>\n",
       "      <td>Мышь</td>\n",
       "    </tr>\n",
       "    <tr>\n",
       "      <th>4</th>\n",
       "      <td>Игровая беспроводная / проводная мышь AJAZZ AJ...</td>\n",
       "      <td>5336.0</td>\n",
       "      <td>4.8</td>\n",
       "      <td>61.0</td>\n",
       "      <td>https://market.yandex.ru/product--igrovaia-bes...</td>\n",
       "      <td>Мышь</td>\n",
       "    </tr>\n",
       "    <tr>\n",
       "      <th>...</th>\n",
       "      <td>...</td>\n",
       "      <td>...</td>\n",
       "      <td>...</td>\n",
       "      <td>...</td>\n",
       "      <td>...</td>\n",
       "      <td>...</td>\n",
       "    </tr>\n",
       "    <tr>\n",
       "      <th>4810</th>\n",
       "      <td>Системный игровой блок I5/RTX 4060 8Gb/SSD 100...</td>\n",
       "      <td>65672.0</td>\n",
       "      <td>4.7</td>\n",
       "      <td>11.0</td>\n",
       "      <td>https://market.yandex.ru/product--sistemnyi-ig...</td>\n",
       "      <td>Компьютер</td>\n",
       "    </tr>\n",
       "    <tr>\n",
       "      <th>4811</th>\n",
       "      <td>Системный игровой блок I3 12100F/RTX 3060 12Gb...</td>\n",
       "      <td>72817.0</td>\n",
       "      <td>5.0</td>\n",
       "      <td>2.0</td>\n",
       "      <td>https://market.yandex.ru/product--sistemnyi-ig...</td>\n",
       "      <td>Компьютер</td>\n",
       "    </tr>\n",
       "    <tr>\n",
       "      <th>4812</th>\n",
       "      <td>Игровой набор 8В1/Игровой системный блок Intel...</td>\n",
       "      <td>83722.0</td>\n",
       "      <td>5.0</td>\n",
       "      <td>2.0</td>\n",
       "      <td>https://market.yandex.ru/product--igrovoi-nabo...</td>\n",
       "      <td>Компьютер</td>\n",
       "    </tr>\n",
       "    <tr>\n",
       "      <th>4813</th>\n",
       "      <td>Системный игровой блок I7/RTX 4060 8Gb/SSD 240...</td>\n",
       "      <td>65726.0</td>\n",
       "      <td>4.7</td>\n",
       "      <td>11.0</td>\n",
       "      <td>https://market.yandex.ru/product--sistemnyi-ig...</td>\n",
       "      <td>Компьютер</td>\n",
       "    </tr>\n",
       "    <tr>\n",
       "      <th>4814</th>\n",
       "      <td>Системный игровой блок Intel i7-9700(аналог)/G...</td>\n",
       "      <td>63280.0</td>\n",
       "      <td>4.7</td>\n",
       "      <td>11.0</td>\n",
       "      <td>https://market.yandex.ru/product--sistemnyi-ig...</td>\n",
       "      <td>Компьютер</td>\n",
       "    </tr>\n",
       "  </tbody>\n",
       "</table>\n",
       "<p>4815 rows × 6 columns</p>\n",
       "</div>"
      ],
      "text/plain": [
       "                                                  title    price  rating  \\\n",
       "0     Мышь компьютерная игровая проводная Intro MG25...    231.0     4.5   \n",
       "1     Мышка беспроводная компьютерная для ноутбука с...    295.0     4.6   \n",
       "2     Мышь беспроводная бесшумная игровая, с аккумул...   1195.0     4.8   \n",
       "3     Игровая мышь A4Tech Bloody V7, проводная USB, ...   1713.0     4.8   \n",
       "4     Игровая беспроводная / проводная мышь AJAZZ AJ...   5336.0     4.8   \n",
       "...                                                 ...      ...     ...   \n",
       "4810  Системный игровой блок I5/RTX 4060 8Gb/SSD 100...  65672.0     4.7   \n",
       "4811  Системный игровой блок I3 12100F/RTX 3060 12Gb...  72817.0     5.0   \n",
       "4812  Игровой набор 8В1/Игровой системный блок Intel...  83722.0     5.0   \n",
       "4813  Системный игровой блок I7/RTX 4060 8Gb/SSD 240...  65726.0     4.7   \n",
       "4814  Системный игровой блок Intel i7-9700(аналог)/G...  63280.0     4.7   \n",
       "\n",
       "      reviews                                               link        req  \n",
       "0       117.0  https://market.yandex.ru/product--mysh-kompiut...       Мышь  \n",
       "1      3431.0  https://market.yandex.ru/product--myshka-bespr...       Мышь  \n",
       "2       426.0  https://market.yandex.ru/product--mysh-besprov...       Мышь  \n",
       "3       732.0  https://market.yandex.ru/product--igrovaia-mys...       Мышь  \n",
       "4        61.0  https://market.yandex.ru/product--igrovaia-bes...       Мышь  \n",
       "...       ...                                                ...        ...  \n",
       "4810     11.0  https://market.yandex.ru/product--sistemnyi-ig...  Компьютер  \n",
       "4811      2.0  https://market.yandex.ru/product--sistemnyi-ig...  Компьютер  \n",
       "4812      2.0  https://market.yandex.ru/product--igrovoi-nabo...  Компьютер  \n",
       "4813     11.0  https://market.yandex.ru/product--sistemnyi-ig...  Компьютер  \n",
       "4814     11.0  https://market.yandex.ru/product--sistemnyi-ig...  Компьютер  \n",
       "\n",
       "[4815 rows x 6 columns]"
      ]
     },
     "execution_count": 11,
     "metadata": {},
     "output_type": "execute_result"
    }
   ],
   "source": [
    "# Посмотрим датасет\n",
    "df"
   ]
  },
  {
   "cell_type": "code",
   "execution_count": 13,
   "id": "7d448b1a-fd0b-4074-88d6-18f5a62c692a",
   "metadata": {},
   "outputs": [],
   "source": [
    "# У нас 4815 товара"
   ]
  },
  {
   "cell_type": "code",
   "execution_count": 15,
   "id": "c1bcc04e-b129-423b-a5c4-31ae0372d3b0",
   "metadata": {
    "scrolled": true
   },
   "outputs": [
    {
     "name": "stdout",
     "output_type": "stream",
     "text": [
      "title      Беспроводная мышь Logitech G G703 Lightspeed, ...\n",
      "price                                                 5435.0\n",
      "rating                                                   5.0\n",
      "reviews                                                 26.0\n",
      "link       https://market.yandex.ru/product--besprovodnai...\n",
      "req                                                     Мышь\n",
      "Name: 53, dtype: object\n"
     ]
    },
    {
     "data": {
      "text/plain": [
       "'https://market.yandex.ru/product--besprovodnaia-mysh-logitech-g-g703-lightspeed-chernyi/1788407388?hid=90401&sku=101106244784&show-uid=17472421813784199784106033&from=search&cpa=1&do-waremd5=CuD-G60NxuDci7EeH9U79A&sponsored=1&cpc=8IQUx2J15OdnqknfPjab80G5AAr-QPPFsUuwp38xoE9XALXudvdy4Db-2oQ0In60pV2k8cdzko1d-dkyxr1_Q92lgVaAnOJmPQo0ldykGCg0JYL_TXTDruSo61DWRbj4x_ppvE0fUZ9nkl1iGNxMa2GBtnW984VpDIFgPp2pnTlFkfJfbwG5wP4K7EqwTriTLifuqj8nY-d5rWqTtjV_Yul-BiBiQUATX1VLiR7rSghHYAcpffVw7e6y73uSvejW8FUkC4qRtTCQfpHc_u5x6v1B_Pr9pbuu-PDntkH6dK55hiQthmA8rZhQCqLFc6PAGlG3o9vFJRQTiDW1ZNpDeVOJJdVANM5tmJ_CU6xLyS0M6NXlD9MjNQNH3zo6nb0ZxTOfb5DXJmArfb7fUY_X-Faf4i7Hm_Avu3_o9IeLSdL4nc1zYXCUvl100oJ8ctfouvKwgKk7HvlV9VXdCmPQS7KjNfxh9KZe5d3WPwfB5F4U8hBKLrYU8UTIIAvDeGGMXmhSHm1vekkOhEqubOsKLoHMwHRnIU0r8SF91f2Cmn4%2C&cc=CiBlMWU2MzA3OWVkNzdjYmZjYWI3ODYyZjcxMDMyODg0YhDnAYB95u0G&uniqueId=102532932'"
      ]
     },
     "execution_count": 15,
     "metadata": {},
     "output_type": "execute_result"
    }
   ],
   "source": [
    "# Достанем ссылку и проверим соответствие данных у товара\n",
    "print(df.loc[53])\n",
    "df.loc[53][\"link\"]"
   ]
  },
  {
   "cell_type": "code",
   "execution_count": 17,
   "id": "7c652063-5806-4603-a123-c7985c84c846",
   "metadata": {
    "scrolled": true
   },
   "outputs": [
    {
     "name": "stdout",
     "output_type": "stream",
     "text": [
      "<class 'pandas.core.frame.DataFrame'>\n",
      "RangeIndex: 4815 entries, 0 to 4814\n",
      "Data columns (total 6 columns):\n",
      " #   Column   Non-Null Count  Dtype  \n",
      "---  ------   --------------  -----  \n",
      " 0   title    4815 non-null   object \n",
      " 1   price    4815 non-null   float64\n",
      " 2   rating   4815 non-null   float64\n",
      " 3   reviews  4815 non-null   float64\n",
      " 4   link     4815 non-null   object \n",
      " 5   req      4815 non-null   object \n",
      "dtypes: float64(3), object(3)\n",
      "memory usage: 225.8+ KB\n"
     ]
    }
   ],
   "source": [
    "df.info()"
   ]
  },
  {
   "cell_type": "code",
   "execution_count": 19,
   "id": "1499a97a-6328-432e-9a33-853efa6068bc",
   "metadata": {},
   "outputs": [],
   "source": [
    "# Поменяем тип данных на корректныe\n",
    "df.price = df.price.astype(int)\n",
    "df.reviews = df.reviews.astype(int)"
   ]
  },
  {
   "cell_type": "code",
   "execution_count": 21,
   "id": "e39c086c-47b5-407e-9e4f-9548b76cdcf2",
   "metadata": {
    "scrolled": true
   },
   "outputs": [
    {
     "name": "stdout",
     "output_type": "stream",
     "text": [
      "\n",
      "Пропуски в данных:\n",
      "title      0\n",
      "price      0\n",
      "rating     0\n",
      "reviews    0\n",
      "link       0\n",
      "req        0\n",
      "dtype: int64\n"
     ]
    }
   ],
   "source": [
    "print(\"\\nПропуски в данных:\")\n",
    "print(df.isnull().sum())"
   ]
  },
  {
   "cell_type": "code",
   "execution_count": 23,
   "id": "3cc9609d-6cf2-4019-a85c-7c84f4be4dfe",
   "metadata": {},
   "outputs": [],
   "source": [
    "# Пропусков нет, так как мы парсили только то, у чего заполнялься все поля"
   ]
  },
  {
   "cell_type": "code",
   "execution_count": 25,
   "id": "e57bbfba-6bae-45b1-90ee-2ab25087ff22",
   "metadata": {},
   "outputs": [
    {
     "name": "stdout",
     "output_type": "stream",
     "text": [
      "\n",
      "Описательные статистики:\n",
      "                                                    title          price  \\\n",
      "count                                                4815    4815.000000   \n",
      "unique                                               4199            NaN   \n",
      "top     Беспроводные наушники A Pods Pro 2 PREMIUM Blu...            NaN   \n",
      "freq                                                    5            NaN   \n",
      "mean                                                  NaN   21286.190862   \n",
      "std                                                   NaN   29833.032928   \n",
      "min                                                   NaN      45.000000   \n",
      "25%                                                   NaN    2407.500000   \n",
      "50%                                                   NaN    8163.000000   \n",
      "75%                                                   NaN   28598.000000   \n",
      "max                                                   NaN  282369.000000   \n",
      "\n",
      "             rating       reviews  \\\n",
      "count   4815.000000   4815.000000   \n",
      "unique          NaN           NaN   \n",
      "top             NaN           NaN   \n",
      "freq            NaN           NaN   \n",
      "mean       4.711983    250.589823   \n",
      "std        0.369360    936.437871   \n",
      "min        1.700000      1.000000   \n",
      "25%        4.600000      5.000000   \n",
      "50%        4.800000     25.000000   \n",
      "75%        5.000000    137.500000   \n",
      "max        5.000000  14793.000000   \n",
      "\n",
      "                                                     link   req  \n",
      "count                                                4815  4815  \n",
      "unique                                               4815    10  \n",
      "top     https://market.yandex.ru/product--mysh-kompiut...  Мышь  \n",
      "freq                                                    1   614  \n",
      "mean                                                  NaN   NaN  \n",
      "std                                                   NaN   NaN  \n",
      "min                                                   NaN   NaN  \n",
      "25%                                                   NaN   NaN  \n",
      "50%                                                   NaN   NaN  \n",
      "75%                                                   NaN   NaN  \n",
      "max                                                   NaN   NaN  \n"
     ]
    }
   ],
   "source": [
    "print(\"\\nОписательные статистики:\")\n",
    "print(df.describe(include='all'))"
   ]
  },
  {
   "cell_type": "code",
   "execution_count": 27,
   "id": "7767c8ea-ccec-44ed-b415-1001ebebff15",
   "metadata": {},
   "outputs": [],
   "source": [
    "# Рейтинг представлен в пятибальной шкале, все товары попадают в эту вилку"
   ]
  },
  {
   "cell_type": "code",
   "execution_count": 29,
   "id": "2a53175f-b03f-4b06-8a2f-4a863b5c25ad",
   "metadata": {},
   "outputs": [
    {
     "name": "stdout",
     "output_type": "stream",
     "text": [
      "\n",
      "Анализ столбца price:\n",
      "Медиана: 8163.0\n",
      "Среднее: 21286.19086188993\n",
      "Стандартное отклонение: 29833.03292771802\n",
      "Минимум: 45\n",
      "Максимум: 282369\n",
      "Количество нулевых значений: 0\n",
      "\n",
      "Анализ столбца rating:\n",
      "Медиана: 4.8\n",
      "Среднее: 4.711983385254413\n",
      "Стандартное отклонение: 0.36935997110859314\n",
      "Минимум: 1.7\n",
      "Максимум: 5.0\n",
      "Количество нулевых значений: 0\n",
      "\n",
      "Анализ столбца reviews:\n",
      "Медиана: 25.0\n",
      "Среднее: 250.58982346832815\n",
      "Стандартное отклонение: 936.4378712803266\n",
      "Минимум: 1\n",
      "Максимум: 14793\n",
      "Количество нулевых значений: 0\n"
     ]
    }
   ],
   "source": [
    "# Анализ числовых переменных у очищенных данных\n",
    "numeric_cols = ['price', 'rating', 'reviews']\n",
    "for col in numeric_cols:\n",
    "    print(f\"\\nАнализ столбца {col}:\")\n",
    "    print(f\"Медиана: {df[col].median()}\")\n",
    "    print(f\"Среднее: {df[col].mean()}\")\n",
    "    print(f\"Стандартное отклонение: {df[col].std()}\")\n",
    "    print(f\"Минимум: {df[col].min()}\")\n",
    "    print(f\"Максимум: {df[col].max()}\")\n",
    "    print(f\"Количество нулевых значений: {(df[col] == 0).sum()}\")"
   ]
  },
  {
   "cell_type": "code",
   "execution_count": 31,
   "id": "15ac9140-c47a-4c7c-b7f7-d2cbe391b278",
   "metadata": {},
   "outputs": [],
   "source": [
    "# Всё в пределах нормы"
   ]
  },
  {
   "cell_type": "code",
   "execution_count": 33,
   "id": "e935e1e8-7753-44cb-91c5-af518eb7d1f1",
   "metadata": {},
   "outputs": [],
   "source": [
    "# Удалим дубликаты\n",
    "df = df.drop_duplicates()\n",
    "\n",
    "\n",
    "#Очистим от товаров не содержащих слова из запроса\n",
    "df = df[df.apply(lambda x: x['req'].lower() in x['title'].lower(), axis=1)]"
   ]
  },
  {
   "cell_type": "code",
   "execution_count": 35,
   "id": "2e55f1e5-d28c-4488-933c-eeac87b1ba1b",
   "metadata": {},
   "outputs": [
    {
     "data": {
      "text/plain": [
       "3256"
      ]
     },
     "execution_count": 35,
     "metadata": {},
     "output_type": "execute_result"
    }
   ],
   "source": [
    "df = df[df.reviews > 5]\n",
    "len(df)"
   ]
  },
  {
   "cell_type": "code",
   "execution_count": 37,
   "id": "8a0eec9a-56b4-4277-bc66-0110e8afff3d",
   "metadata": {},
   "outputs": [],
   "source": [
    "# После очитстки осталось 3256 строки"
   ]
  },
  {
   "cell_type": "code",
   "execution_count": 39,
   "id": "c6bb1063-81c2-444e-a847-5591cf2db224",
   "metadata": {
    "scrolled": true
   },
   "outputs": [],
   "source": [
    "#сохраним очищенные данные\n",
    "# df.to_csv(working_directory + working_directory_data + tag_clear_dataset + name_dataset)"
   ]
  },
  {
   "cell_type": "code",
   "execution_count": 41,
   "id": "78c3283e-883e-49eb-aa1b-70cda05af854",
   "metadata": {},
   "outputs": [],
   "source": [
    "# Загрузим очищенные данные\n",
    "import pandas as pd\n",
    "df = pd.read_csv(working_directory + working_directory_data + tag_clear_dataset + name_dataset).drop(\"Unnamed: 0\", axis = 1)"
   ]
  },
  {
   "cell_type": "code",
   "execution_count": 43,
   "id": "2d73d913-0537-49bf-8cee-eb89706ae86a",
   "metadata": {},
   "outputs": [],
   "source": [
    "categories = df['req'].unique().tolist()\n",
    "result_dfs = []\n",
    "\n",
    "for category in categories:\n",
    "    cat_df = df[df['req'] == category].copy()\n",
    "    \n",
    "    # Квартили внутри категории\n",
    "    quartiles = cat_df['price'].quantile([0, 0.25, 0.5, 0.75, 1]).values\n",
    "    cat_df.loc[:, 'price_category'] = pd.qcut(cat_df.loc[:, 'price'], q=4, labels=['Q1', 'Q2', 'Q3', 'Q4'])\n",
    "\n",
    "    result_dfs.append(cat_df)\n",
    "                \n",
    "df = pd.concat(result_dfs)"
   ]
  },
  {
   "cell_type": "code",
   "execution_count": 45,
   "id": "0e795416-67fe-4d70-9a8d-de291a975c7f",
   "metadata": {},
   "outputs": [
    {
     "data": {
      "text/html": [
       "<div>\n",
       "<style scoped>\n",
       "    .dataframe tbody tr th:only-of-type {\n",
       "        vertical-align: middle;\n",
       "    }\n",
       "\n",
       "    .dataframe tbody tr th {\n",
       "        vertical-align: top;\n",
       "    }\n",
       "\n",
       "    .dataframe thead th {\n",
       "        text-align: right;\n",
       "    }\n",
       "</style>\n",
       "<table border=\"1\" class=\"dataframe\">\n",
       "  <thead>\n",
       "    <tr style=\"text-align: right;\">\n",
       "      <th></th>\n",
       "      <th>title</th>\n",
       "      <th>price</th>\n",
       "      <th>rating</th>\n",
       "      <th>reviews</th>\n",
       "      <th>link</th>\n",
       "      <th>req</th>\n",
       "      <th>price_category</th>\n",
       "    </tr>\n",
       "  </thead>\n",
       "  <tbody>\n",
       "    <tr>\n",
       "      <th>0</th>\n",
       "      <td>Мышь компьютерная игровая проводная Intro MG25...</td>\n",
       "      <td>231</td>\n",
       "      <td>4.5</td>\n",
       "      <td>117</td>\n",
       "      <td>https://market.yandex.ru/product--mysh-kompiut...</td>\n",
       "      <td>Мышь</td>\n",
       "      <td>Q1</td>\n",
       "    </tr>\n",
       "    <tr>\n",
       "      <th>1</th>\n",
       "      <td>Мышь беспроводная бесшумная игровая, с аккумул...</td>\n",
       "      <td>1195</td>\n",
       "      <td>4.8</td>\n",
       "      <td>426</td>\n",
       "      <td>https://market.yandex.ru/product--mysh-besprov...</td>\n",
       "      <td>Мышь</td>\n",
       "      <td>Q2</td>\n",
       "    </tr>\n",
       "    <tr>\n",
       "      <th>2</th>\n",
       "      <td>Игровая мышь A4Tech Bloody V7, проводная USB, ...</td>\n",
       "      <td>1713</td>\n",
       "      <td>4.8</td>\n",
       "      <td>732</td>\n",
       "      <td>https://market.yandex.ru/product--igrovaia-mys...</td>\n",
       "      <td>Мышь</td>\n",
       "      <td>Q3</td>\n",
       "    </tr>\n",
       "    <tr>\n",
       "      <th>3</th>\n",
       "      <td>Игровая беспроводная / проводная мышь AJAZZ AJ...</td>\n",
       "      <td>5336</td>\n",
       "      <td>4.8</td>\n",
       "      <td>61</td>\n",
       "      <td>https://market.yandex.ru/product--igrovaia-bes...</td>\n",
       "      <td>Мышь</td>\n",
       "      <td>Q4</td>\n",
       "    </tr>\n",
       "    <tr>\n",
       "      <th>4</th>\n",
       "      <td>Беспроводная мышь Attack Shark X3, мышь, Bluet...</td>\n",
       "      <td>3404</td>\n",
       "      <td>4.9</td>\n",
       "      <td>78</td>\n",
       "      <td>https://market.yandex.ru/product--besprovodnai...</td>\n",
       "      <td>Мышь</td>\n",
       "      <td>Q4</td>\n",
       "    </tr>\n",
       "    <tr>\n",
       "      <th>...</th>\n",
       "      <td>...</td>\n",
       "      <td>...</td>\n",
       "      <td>...</td>\n",
       "      <td>...</td>\n",
       "      <td>...</td>\n",
       "      <td>...</td>\n",
       "      <td>...</td>\n",
       "    </tr>\n",
       "    <tr>\n",
       "      <th>3251</th>\n",
       "      <td>Системный игровой блок Ryzen 5 5500/RTX 2060 6...</td>\n",
       "      <td>64541</td>\n",
       "      <td>4.3</td>\n",
       "      <td>6</td>\n",
       "      <td>https://market.yandex.ru/product--sistemnyi-ig...</td>\n",
       "      <td>Компьютер</td>\n",
       "      <td>Q3</td>\n",
       "    </tr>\n",
       "    <tr>\n",
       "      <th>3252</th>\n",
       "      <td>Системный игровой блок Intel i7/RTX 2060 6Gb/R...</td>\n",
       "      <td>62281</td>\n",
       "      <td>4.7</td>\n",
       "      <td>11</td>\n",
       "      <td>https://market.yandex.ru/product--sistemnyi-ig...</td>\n",
       "      <td>Компьютер</td>\n",
       "      <td>Q3</td>\n",
       "    </tr>\n",
       "    <tr>\n",
       "      <th>3253</th>\n",
       "      <td>Системный игровой блок I5/RTX 4060 8Gb/SSD 100...</td>\n",
       "      <td>65672</td>\n",
       "      <td>4.7</td>\n",
       "      <td>11</td>\n",
       "      <td>https://market.yandex.ru/product--sistemnyi-ig...</td>\n",
       "      <td>Компьютер</td>\n",
       "      <td>Q3</td>\n",
       "    </tr>\n",
       "    <tr>\n",
       "      <th>3254</th>\n",
       "      <td>Системный игровой блок I7/RTX 4060 8Gb/SSD 240...</td>\n",
       "      <td>65726</td>\n",
       "      <td>4.7</td>\n",
       "      <td>11</td>\n",
       "      <td>https://market.yandex.ru/product--sistemnyi-ig...</td>\n",
       "      <td>Компьютер</td>\n",
       "      <td>Q3</td>\n",
       "    </tr>\n",
       "    <tr>\n",
       "      <th>3255</th>\n",
       "      <td>Системный игровой блок Intel i7-9700(аналог)/G...</td>\n",
       "      <td>63280</td>\n",
       "      <td>4.7</td>\n",
       "      <td>11</td>\n",
       "      <td>https://market.yandex.ru/product--sistemnyi-ig...</td>\n",
       "      <td>Компьютер</td>\n",
       "      <td>Q3</td>\n",
       "    </tr>\n",
       "  </tbody>\n",
       "</table>\n",
       "<p>3256 rows × 7 columns</p>\n",
       "</div>"
      ],
      "text/plain": [
       "                                                  title  price  rating  \\\n",
       "0     Мышь компьютерная игровая проводная Intro MG25...    231     4.5   \n",
       "1     Мышь беспроводная бесшумная игровая, с аккумул...   1195     4.8   \n",
       "2     Игровая мышь A4Tech Bloody V7, проводная USB, ...   1713     4.8   \n",
       "3     Игровая беспроводная / проводная мышь AJAZZ AJ...   5336     4.8   \n",
       "4     Беспроводная мышь Attack Shark X3, мышь, Bluet...   3404     4.9   \n",
       "...                                                 ...    ...     ...   \n",
       "3251  Системный игровой блок Ryzen 5 5500/RTX 2060 6...  64541     4.3   \n",
       "3252  Системный игровой блок Intel i7/RTX 2060 6Gb/R...  62281     4.7   \n",
       "3253  Системный игровой блок I5/RTX 4060 8Gb/SSD 100...  65672     4.7   \n",
       "3254  Системный игровой блок I7/RTX 4060 8Gb/SSD 240...  65726     4.7   \n",
       "3255  Системный игровой блок Intel i7-9700(аналог)/G...  63280     4.7   \n",
       "\n",
       "      reviews                                               link        req  \\\n",
       "0         117  https://market.yandex.ru/product--mysh-kompiut...       Мышь   \n",
       "1         426  https://market.yandex.ru/product--mysh-besprov...       Мышь   \n",
       "2         732  https://market.yandex.ru/product--igrovaia-mys...       Мышь   \n",
       "3          61  https://market.yandex.ru/product--igrovaia-bes...       Мышь   \n",
       "4          78  https://market.yandex.ru/product--besprovodnai...       Мышь   \n",
       "...       ...                                                ...        ...   \n",
       "3251        6  https://market.yandex.ru/product--sistemnyi-ig...  Компьютер   \n",
       "3252       11  https://market.yandex.ru/product--sistemnyi-ig...  Компьютер   \n",
       "3253       11  https://market.yandex.ru/product--sistemnyi-ig...  Компьютер   \n",
       "3254       11  https://market.yandex.ru/product--sistemnyi-ig...  Компьютер   \n",
       "3255       11  https://market.yandex.ru/product--sistemnyi-ig...  Компьютер   \n",
       "\n",
       "     price_category  \n",
       "0                Q1  \n",
       "1                Q2  \n",
       "2                Q3  \n",
       "3                Q4  \n",
       "4                Q4  \n",
       "...             ...  \n",
       "3251             Q3  \n",
       "3252             Q3  \n",
       "3253             Q3  \n",
       "3254             Q3  \n",
       "3255             Q3  \n",
       "\n",
       "[3256 rows x 7 columns]"
      ]
     },
     "execution_count": 45,
     "metadata": {},
     "output_type": "execute_result"
    }
   ],
   "source": [
    "df"
   ]
  },
  {
   "cell_type": "code",
   "execution_count": 47,
   "id": "1f197983-ba4e-4555-a046-1867886d55dc",
   "metadata": {},
   "outputs": [
    {
     "data": {
      "text/html": [
       "\n",
       "        <iframe\n",
       "            width=\"100%\"\n",
       "            height=\"650\"\n",
       "            src=\"http://127.0.0.1:5432/\"\n",
       "            frameborder=\"0\"\n",
       "            allowfullscreen\n",
       "            \n",
       "        ></iframe>\n",
       "        "
      ],
      "text/plain": [
       "<IPython.lib.display.IFrame at 0x1eaf372e9f0>"
      ]
     },
     "metadata": {},
     "output_type": "display_data"
    }
   ],
   "source": [
    "from dashboard import dash_app\n",
    "\n",
    "if __name__ == '__main__':\n",
    "    dashboard= dash_app(df)\n",
    "    dashboard.app.run(port=5432)"
   ]
  },
  {
   "cell_type": "code",
   "execution_count": 48,
   "id": "0fd53f87-3f82-4e92-b607-35b2c21cf176",
   "metadata": {},
   "outputs": [],
   "source": [
    "# Откроем в отдельном окне\n",
    "driver = create_driver()\n",
    "driver.get(\"http://localhost:5432\")"
   ]
  },
  {
   "cell_type": "code",
   "execution_count": 26,
   "id": "5ab2251c-fdad-4d9b-bc1e-427f58e475a7",
   "metadata": {},
   "outputs": [],
   "source": [
    "# Выход\n",
    "driver.quit()"
   ]
  },
  {
   "cell_type": "code",
   "execution_count": null,
   "id": "c4dfd748-3f19-4f54-b38b-483e93dde43d",
   "metadata": {},
   "outputs": [],
   "source": []
  }
 ],
 "metadata": {
  "kernelspec": {
   "display_name": "Python [conda env:base] *",
   "language": "python",
   "name": "conda-base-py"
  },
  "language_info": {
   "codemirror_mode": {
    "name": "ipython",
    "version": 3
   },
   "file_extension": ".py",
   "mimetype": "text/x-python",
   "name": "python",
   "nbconvert_exporter": "python",
   "pygments_lexer": "ipython3",
   "version": "3.12.7"
  }
 },
 "nbformat": 4,
 "nbformat_minor": 5
}
